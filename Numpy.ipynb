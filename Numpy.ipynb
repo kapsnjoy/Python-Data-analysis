{
 "cells": [
  {
   "cell_type": "code",
   "execution_count": 7,
   "id": "d6a0a273-9b7c-459d-9506-6ba71c93e72e",
   "metadata": {},
   "outputs": [],
   "source": [
    "my_2d=[[1,2,3],[4,5,6],[7,8,9]]\n"
   ]
  },
  {
   "cell_type": "code",
   "execution_count": 1,
   "id": "17ab4a8f-ce4b-4d1b-b039-d1f60d23943b",
   "metadata": {},
   "outputs": [],
   "source": [
    "import numpy as np\n"
   ]
  },
  {
   "cell_type": "code",
   "execution_count": 21,
   "id": "04e409b8-9cbf-461c-ade4-a695dc8cad3f",
   "metadata": {},
   "outputs": [
    {
     "data": {
      "text/plain": [
       "array([0., 0., 0., 0., 0., 0., 0., 0., 0., 0.])"
      ]
     },
     "execution_count": 21,
     "metadata": {},
     "output_type": "execute_result"
    }
   ],
   "source": [
    "np.zeros(10)"
   ]
  },
  {
   "cell_type": "code",
   "execution_count": 23,
   "id": "73f4b169-a023-4e87-8535-e56f667a4677",
   "metadata": {},
   "outputs": [
    {
     "data": {
      "text/plain": [
       "array([1., 1., 1., 1., 1., 1., 1., 1., 1., 1., 1., 1., 1., 1., 1., 1., 1.,\n",
       "       1., 1., 1., 1., 1., 1., 1., 1., 1., 1., 1., 1., 1., 1., 1., 1., 1.,\n",
       "       1., 1., 1., 1., 1., 1., 1., 1., 1., 1., 1., 1., 1., 1., 1., 1.])"
      ]
     },
     "execution_count": 23,
     "metadata": {},
     "output_type": "execute_result"
    }
   ],
   "source": [
    "np.ones(50)"
   ]
  },
  {
   "cell_type": "code",
   "execution_count": 19,
   "id": "aaee758b-02cb-4225-b0a4-cab4f2626b2f",
   "metadata": {},
   "outputs": [
    {
     "data": {
      "text/plain": [
       "array([0, 0, 0, 0, 0])"
      ]
     },
     "execution_count": 19,
     "metadata": {},
     "output_type": "execute_result"
    }
   ],
   "source": [
    "array_5=[0,0,0,0,0]\n",
    "np.array(array_5)"
   ]
  },
  {
   "cell_type": "code",
   "execution_count": 13,
   "id": "f709f578-77f1-47e9-b828-16c38d82e8ba",
   "metadata": {},
   "outputs": [
    {
     "data": {
      "text/plain": [
       "array([0, 1, 2, 3, 4, 5, 6, 7, 8, 9])"
      ]
     },
     "execution_count": 13,
     "metadata": {},
     "output_type": "execute_result"
    }
   ],
   "source": [
    "array_10 = np.arange(0,10,1)\n",
    "array_10"
   ]
  },
  {
   "cell_type": "code",
   "execution_count": 85,
   "id": "27d2b8e1-0fad-491f-b45f-18ba7516afab",
   "metadata": {},
   "outputs": [
    {
     "data": {
      "text/plain": [
       "array([False, False, False, False, False, False, False, False, False,\n",
       "        True,  True,  True])"
      ]
     },
     "execution_count": 85,
     "metadata": {},
     "output_type": "execute_result"
    }
   ],
   "source": [
    "boo_arr = boo>10\n",
    "boo_arr"
   ]
  },
  {
   "cell_type": "code",
   "execution_count": 77,
   "id": "b94b881e-a5b2-40b1-a695-6cb63e4761d2",
   "metadata": {},
   "outputs": [
    {
     "data": {
      "text/plain": [
       "array([ 2,  3,  4,  5,  6,  7,  8,  9, 10, 11, 12, 13])"
      ]
     },
     "execution_count": 77,
     "metadata": {},
     "output_type": "execute_result"
    }
   ],
   "source": [
    "import numpy as np\n",
    "boo = np.arange(2,14)\n",
    "boo"
   ]
  },
  {
   "cell_type": "code",
   "execution_count": 87,
   "id": "c9833a72-7a2b-467e-a669-bfeadd5df213",
   "metadata": {},
   "outputs": [
    {
     "data": {
      "text/plain": [
       "array([11, 12, 13])"
      ]
     },
     "execution_count": 87,
     "metadata": {},
     "output_type": "execute_result"
    }
   ],
   "source": [
    "boo[boo>10]"
   ]
  },
  {
   "cell_type": "code",
   "execution_count": 7,
   "id": "c88d184c-59c4-4737-bbf6-3759e7f2e27e",
   "metadata": {},
   "outputs": [
    {
     "data": {
      "text/plain": [
       "array([55, 56, 57, 58, 59, 60, 61, 62, 63, 64, 65, 66, 67, 68, 69, 70, 71,\n",
       "       72, 73, 74, 75, 76, 77, 78, 79, 80, 81, 82, 83, 84, 85, 86, 87, 88,\n",
       "       89, 90, 91, 92, 93, 94, 95, 96, 97, 98, 99])"
      ]
     },
     "execution_count": 7,
     "metadata": {},
     "output_type": "execute_result"
    }
   ],
   "source": [
    "np.arange(55,100)\n"
   ]
  },
  {
   "cell_type": "code",
   "execution_count": 15,
   "id": "085f22a6-2319-4efb-b884-2f4d7c0ba8b8",
   "metadata": {},
   "outputs": [
    {
     "data": {
      "text/plain": [
       "array([[1, 2, 3],\n",
       "       [4, 5, 6],\n",
       "       [7, 8, 9]])"
      ]
     },
     "execution_count": 15,
     "metadata": {},
     "output_type": "execute_result"
    }
   ],
   "source": [
    "\n",
    "my_array = np.array(my_2d)\n",
    "my_array"
   ]
  },
  {
   "cell_type": "code",
   "execution_count": 25,
   "id": "707527d8-b675-449f-a585-aac1cba9dbf6",
   "metadata": {},
   "outputs": [
    {
     "data": {
      "text/plain": [
       "6"
      ]
     },
     "execution_count": 25,
     "metadata": {},
     "output_type": "execute_result"
    }
   ],
   "source": [
    "element = my_array[1,2]\n",
    "element"
   ]
  },
  {
   "cell_type": "code",
   "execution_count": 37,
   "id": "9a8b7211-6035-421c-a431-06c09a6c4f08",
   "metadata": {},
   "outputs": [
    {
     "data": {
      "text/plain": [
       "array([[ 5, 10, 15],\n",
       "       [20, 25, 30],\n",
       "       [35, 40, 45]])"
      ]
     },
     "execution_count": 37,
     "metadata": {},
     "output_type": "execute_result"
    }
   ],
   "source": [
    "arr_2d = np.array([[5,10,15],[20,25,30],[35,40,45]])\n",
    "arr_2d"
   ]
  },
  {
   "cell_type": "code",
   "execution_count": 43,
   "id": "b45831f9-b6f9-4224-a2c9-454e64a769ef",
   "metadata": {},
   "outputs": [
    {
     "data": {
      "text/plain": [
       "array([[25, 30],\n",
       "       [40, 45]])"
      ]
     },
     "execution_count": 43,
     "metadata": {},
     "output_type": "execute_result"
    }
   ],
   "source": [
    "slice_arry= arr_2d[1:,1:]\n",
    "slice_arry\n"
   ]
  },
  {
   "cell_type": "code",
   "execution_count": 9,
   "id": "c96109e9-e7af-4028-9c25-28ae23f60770",
   "metadata": {},
   "outputs": [
    {
     "data": {
      "text/plain": [
       "array([ 1.        ,  5.94736842, 10.89473684, 15.84210526, 20.78947368,\n",
       "       25.73684211, 30.68421053, 35.63157895, 40.57894737, 45.52631579,\n",
       "       50.47368421, 55.42105263, 60.36842105, 65.31578947, 70.26315789,\n",
       "       75.21052632, 80.15789474, 85.10526316, 90.05263158, 95.        ])"
      ]
     },
     "execution_count": 9,
     "metadata": {},
     "output_type": "execute_result"
    }
   ],
   "source": [
    "np.linspace(1,95,20)\n"
   ]
  },
  {
   "cell_type": "code",
   "execution_count": null,
   "id": "816f5fb9-95f1-4170-9391-4a23965a9eec",
   "metadata": {},
   "outputs": [],
   "source": []
  },
  {
   "cell_type": "code",
   "execution_count": 11,
   "id": "bbdf861a-2c2a-45d9-ae0b-012f79265dba",
   "metadata": {},
   "outputs": [
    {
     "data": {
      "text/plain": [
       "array([0.80714159, 0.373786  , 0.57774657, 0.08938133])"
      ]
     },
     "execution_count": 11,
     "metadata": {},
     "output_type": "execute_result"
    }
   ],
   "source": [
    "np.random.rand(4)"
   ]
  },
  {
   "cell_type": "code",
   "execution_count": 13,
   "id": "fb80b2cf-ae41-439a-b183-01b861af2b4d",
   "metadata": {},
   "outputs": [
    {
     "data": {
      "text/plain": [
       "array([-1.15432594,  0.49877626, -0.52240207,  1.40399116,  1.98540097,\n",
       "       -0.31208164,  1.81746514, -0.59717018, -0.52174088,  1.50596516])"
      ]
     },
     "execution_count": 13,
     "metadata": {},
     "output_type": "execute_result"
    }
   ],
   "source": [
    "np.random.randn(10)"
   ]
  },
  {
   "cell_type": "code",
   "execution_count": 47,
   "id": "f53c4589-9045-4636-8ce4-ebc0e8a5dcba",
   "metadata": {},
   "outputs": [
    {
     "data": {
      "text/plain": [
       "array([53, 15, 21, 37, 28, 22, 39, 37, 41, 16, 21, 35])"
      ]
     },
     "execution_count": 47,
     "metadata": {},
     "output_type": "execute_result"
    }
   ],
   "source": [
    "ar1=np.random.randint(10,56,12)\n",
    "ar1"
   ]
  },
  {
   "cell_type": "code",
   "execution_count": 49,
   "id": "c23a33ea-c091-49c1-9392-572259e49df4",
   "metadata": {},
   "outputs": [
    {
     "data": {
      "text/plain": [
       "array([[53, 15, 21],\n",
       "       [37, 28, 22],\n",
       "       [39, 37, 41],\n",
       "       [16, 21, 35]])"
      ]
     },
     "execution_count": 49,
     "metadata": {},
     "output_type": "execute_result"
    }
   ],
   "source": [
    "res=ar1.reshape(4,3)\n",
    "res"
   ]
  },
  {
   "cell_type": "code",
   "execution_count": 51,
   "id": "01191ed3-51c1-4942-82e4-046af01cc252",
   "metadata": {},
   "outputs": [
    {
     "data": {
      "text/plain": [
       "53"
      ]
     },
     "execution_count": 51,
     "metadata": {},
     "output_type": "execute_result"
    }
   ],
   "source": [
    "\n",
    "res.max()\n",
    "\n"
   ]
  },
  {
   "cell_type": "code",
   "execution_count": 53,
   "id": "8407eeba-5860-4396-a8b9-c4296a3be9c2",
   "metadata": {},
   "outputs": [
    {
     "data": {
      "text/plain": [
       "15"
      ]
     },
     "execution_count": 53,
     "metadata": {},
     "output_type": "execute_result"
    }
   ],
   "source": [
    "res.min()"
   ]
  },
  {
   "cell_type": "code",
   "execution_count": 55,
   "id": "74fa1e8c-a6ab-428c-bd53-bc5d97ea5030",
   "metadata": {},
   "outputs": [
    {
     "data": {
      "text/plain": [
       "1"
      ]
     },
     "execution_count": 55,
     "metadata": {},
     "output_type": "execute_result"
    }
   ],
   "source": [
    "res.argmin()"
   ]
  },
  {
   "cell_type": "code",
   "execution_count": 68,
   "id": "55c245ac-4aed-42dc-b45a-a78cba964293",
   "metadata": {},
   "outputs": [
    {
     "data": {
      "text/plain": [
       "array([False,  True,  True, False,  True,  True, False, False, False,\n",
       "        True,  True,  True])"
      ]
     },
     "execution_count": 68,
     "metadata": {},
     "output_type": "execute_result"
    }
   ],
   "source": [
    "ar1<37\n"
   ]
  },
  {
   "cell_type": "raw",
   "id": "4ebe983d-a4a3-4987-b716-a270a8c59862",
   "metadata": {},
   "source": []
  },
  {
   "cell_type": "code",
   "execution_count": null,
   "id": "78ba003e-8e82-4f75-983f-d010b49523ab",
   "metadata": {},
   "outputs": [],
   "source": []
  }
 ],
 "metadata": {
  "kernelspec": {
   "display_name": "Python [conda env:base] *",
   "language": "python",
   "name": "conda-base-py"
  },
  "language_info": {
   "codemirror_mode": {
    "name": "ipython",
    "version": 3
   },
   "file_extension": ".py",
   "mimetype": "text/x-python",
   "name": "python",
   "nbconvert_exporter": "python",
   "pygments_lexer": "ipython3",
   "version": "3.12.7"
  }
 },
 "nbformat": 4,
 "nbformat_minor": 5
}
