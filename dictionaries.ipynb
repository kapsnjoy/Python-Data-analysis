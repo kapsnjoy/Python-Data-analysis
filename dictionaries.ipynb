{
 "cells": [
  {
   "cell_type": "code",
   "execution_count": 3,
   "id": "339ae265-fa7a-45ea-8f9f-f2053248f8d6",
   "metadata": {},
   "outputs": [],
   "source": [
    "age = 45\n",
    "name = 'Karp'\n",
    "\n"
   ]
  },
  {
   "cell_type": "code",
   "execution_count": 11,
   "id": "b6980426-7bb1-4ed1-997f-e01840047d44",
   "metadata": {},
   "outputs": [
    {
     "name": "stdout",
     "output_type": "stream",
     "text": [
      "My name is Karp and am 45 years old\n"
     ]
    }
   ],
   "source": [
    "print('My name is {} and am {} years old' .format( name, age))"
   ]
  },
  {
   "cell_type": "code",
   "execution_count": 7,
   "id": "afab311a-bec1-4577-bbf4-13484de17ad7",
   "metadata": {},
   "outputs": [
    {
     "data": {
      "text/plain": [
       "'Testing print function with just using single quotes'"
      ]
     },
     "execution_count": 7,
     "metadata": {},
     "output_type": "execute_result"
    }
   ],
   "source": [
    "'Testing print function with just using single quotes'"
   ]
  },
  {
   "cell_type": "code",
   "execution_count": 5,
   "id": "86342801-0c17-4ecd-8d6d-e6cf2e4250f2",
   "metadata": {},
   "outputs": [],
   "source": [
    "d={'k1':'apple','k2':'carrots','k3':'kids','k4':567}\n"
   ]
  },
  {
   "cell_type": "code",
   "execution_count": 15,
   "id": "9b68bc1f-c516-4312-a580-cd61d5d04961",
   "metadata": {},
   "outputs": [
    {
     "data": {
      "text/plain": [
       "567"
      ]
     },
     "execution_count": 15,
     "metadata": {},
     "output_type": "execute_result"
    }
   ],
   "source": [
    "d['k4']\n",
    "\n"
   ]
  },
  {
   "cell_type": "code",
   "execution_count": 3,
   "id": "119fe7bc-0b83-4b9d-8bc8-d1791062d1ba",
   "metadata": {},
   "outputs": [],
   "source": [
    "e = {'k1':'one dimensional','k2':[5,9,25,103]}"
   ]
  },
  {
   "cell_type": "code",
   "execution_count": 9,
   "id": "09229641-e2d5-4c37-8ea8-4e1c12ac095b",
   "metadata": {},
   "outputs": [
    {
     "data": {
      "text/plain": [
       "103"
      ]
     },
     "execution_count": 9,
     "metadata": {},
     "output_type": "execute_result"
    }
   ],
   "source": [
    "e['k2'][3]"
   ]
  },
  {
   "cell_type": "code",
   "execution_count": 19,
   "id": "e16c137b-01d0-4823-9b51-6e217b105f67",
   "metadata": {},
   "outputs": [],
   "source": [
    "e = {'k1':'1D','k2':{'l1':'Lion','l2':'tiger','l3':'buffalo'},'k3':[1000,2000,3000]}"
   ]
  },
  {
   "cell_type": "code",
   "execution_count": 13,
   "id": "8aefa046-6a35-4e55-9d1e-358e0683e389",
   "metadata": {},
   "outputs": [
    {
     "data": {
      "text/plain": [
       "{'l1': 'Lion', 'l2': 'tiger', 'l3': 'buffalo'}"
      ]
     },
     "execution_count": 13,
     "metadata": {},
     "output_type": "execute_result"
    }
   ],
   "source": [
    "e['k2']"
   ]
  },
  {
   "cell_type": "code",
   "execution_count": 17,
   "id": "4049d45c-1530-4bd1-9fdd-27c7597cd370",
   "metadata": {},
   "outputs": [
    {
     "data": {
      "text/plain": [
       "'tiger'"
      ]
     },
     "execution_count": 17,
     "metadata": {},
     "output_type": "execute_result"
    }
   ],
   "source": [
    "e['k2']['l2']"
   ]
  },
  {
   "cell_type": "markdown",
   "id": "8b49784a-47ba-4937-90b4-7d20fc567207",
   "metadata": {},
   "source": []
  },
  {
   "cell_type": "code",
   "execution_count": 23,
   "id": "62aedacd-684e-4b75-b3ea-5a29e2873313",
   "metadata": {},
   "outputs": [
    {
     "data": {
      "text/plain": [
       "2000"
      ]
     },
     "execution_count": 23,
     "metadata": {},
     "output_type": "execute_result"
    }
   ],
   "source": [
    "e['k3'][1]\n"
   ]
  },
  {
   "cell_type": "code",
   "execution_count": 27,
   "id": "726ac9c2-b380-40c7-87ed-c544cde6e98a",
   "metadata": {},
   "outputs": [
    {
     "data": {
      "text/plain": [
       "{1, 2, 3, 4, 5, 6, 7, 8}"
      ]
     },
     "execution_count": 27,
     "metadata": {},
     "output_type": "execute_result"
    }
   ],
   "source": [
    "{1,2,3,3,4,5,6,7,8,8}\n"
   ]
  },
  {
   "cell_type": "code",
   "execution_count": 31,
   "id": "fd9d0e9d-e6c5-4c46-970a-39ecd43ffbec",
   "metadata": {},
   "outputs": [
    {
     "data": {
      "text/plain": [
       "{'aa', 'bb', 'cc', 'ff'}"
      ]
     },
     "execution_count": 31,
     "metadata": {},
     "output_type": "execute_result"
    }
   ],
   "source": [
    "set(['aa','bb','bb','cc','aa','ff'])"
   ]
  },
  {
   "cell_type": "code",
   "execution_count": 41,
   "id": "43fd383f-c03b-4f86-8359-902159db1e3c",
   "metadata": {},
   "outputs": [
    {
     "name": "stdout",
     "output_type": "stream",
     "text": [
      "yep!\n"
     ]
    }
   ],
   "source": [
    "if len('Karp') == 4:\n",
    "    print('yep!')\n",
    "else:\n",
    "    "
   ]
  },
  {
   "cell_type": "code",
   "execution_count": 57,
   "id": "ae37ecd9-29dd-452d-aae4-1db3528caf62",
   "metadata": {},
   "outputs": [
    {
     "name": "stdout",
     "output_type": "stream",
     "text": [
      "i is: 1\n",
      "0\n",
      "i is: 2\n",
      "1\n",
      "i is: 3\n",
      "2\n",
      "i is: 4\n",
      "3\n"
     ]
    }
   ],
   "source": [
    "i =1 \n",
    "j = 0\n",
    "while i < 5:\n",
    "    print('i is: {}'.format(i))\n",
    "    print(j)\n",
    "    i=i+1\n",
    "    j = j + 1"
   ]
  },
  {
   "cell_type": "code",
   "execution_count": 59,
   "id": "1ef0ac9d-5aa6-4531-a973-f30527decce1",
   "metadata": {},
   "outputs": [
    {
     "name": "stdout",
     "output_type": "stream",
     "text": [
      "0\n",
      "1\n",
      "2\n",
      "3\n",
      "4\n",
      "5\n",
      "6\n",
      "7\n",
      "8\n",
      "9\n"
     ]
    }
   ],
   "source": [
    "for i in range(0,10) :\n",
    "    print(i)\n",
    "    "
   ]
  },
  {
   "cell_type": "code",
   "execution_count": 61,
   "id": "a42f08b0-5047-408c-be7f-3d8cfbf41bab",
   "metadata": {},
   "outputs": [],
   "source": [
    "out = [ num**2 for num in [3,4,5,6]]"
   ]
  },
  {
   "cell_type": "code",
   "execution_count": 63,
   "id": "8760140d-0259-4469-b4cf-c5002d33ce59",
   "metadata": {},
   "outputs": [
    {
     "data": {
      "text/plain": [
       "[9, 16, 25, 36]"
      ]
     },
     "execution_count": 63,
     "metadata": {},
     "output_type": "execute_result"
    }
   ],
   "source": [
    "out\n"
   ]
  },
  {
   "cell_type": "code",
   "execution_count": 65,
   "id": "06029b66-5bc3-4fdf-823f-1d7a4249e25b",
   "metadata": {},
   "outputs": [],
   "source": [
    "def myfunc(param):\n",
    "    print('hello'+param)\n",
    "    "
   ]
  },
  {
   "cell_type": "code",
   "execution_count": 67,
   "id": "eac74b1b-36ec-4392-8fd3-04ae4e1cdfc1",
   "metadata": {},
   "outputs": [
    {
     "name": "stdout",
     "output_type": "stream",
     "text": [
      "helloKarp\n"
     ]
    }
   ],
   "source": [
    "myfunc('Karp')"
   ]
  },
  {
   "cell_type": "code",
   "execution_count": 69,
   "id": "76862fd4-54ea-4c19-9d74-87939e2d6693",
   "metadata": {},
   "outputs": [],
   "source": [
    "seq = [2,3,6,7,9]\n"
   ]
  },
  {
   "cell_type": "code",
   "execution_count": 71,
   "id": "02627a9d-e22d-49ef-8c90-c15929a09785",
   "metadata": {},
   "outputs": [
    {
     "data": {
      "text/plain": [
       "[2, 3, 6, 7, 9]"
      ]
     },
     "execution_count": 71,
     "metadata": {},
     "output_type": "execute_result"
    }
   ],
   "source": [
    "seq\n"
   ]
  },
  {
   "cell_type": "code",
   "execution_count": 73,
   "id": "0bbf2e71-95d5-4e8c-b5f1-7960f3dc1398",
   "metadata": {},
   "outputs": [],
   "source": [
    "def times2(num):\n",
    "    return num*2\n"
   ]
  },
  {
   "cell_type": "code",
   "execution_count": 75,
   "id": "a0cdd636-7a23-46a4-8be5-e8f497febf05",
   "metadata": {},
   "outputs": [],
   "source": [
    "double = times2(34)"
   ]
  },
  {
   "cell_type": "code",
   "execution_count": 77,
   "id": "c5318395-1ed4-4b1b-8024-b89b69c3821a",
   "metadata": {},
   "outputs": [
    {
     "name": "stdout",
     "output_type": "stream",
     "text": [
      "68\n"
     ]
    }
   ],
   "source": [
    "print(double)\n",
    "\n"
   ]
  },
  {
   "cell_type": "code",
   "execution_count": 79,
   "id": "03b55f95-d77a-4b77-961d-6519dc4f3ee2",
   "metadata": {},
   "outputs": [
    {
     "data": {
      "text/plain": [
       "[4, 6, 12, 14, 18]"
      ]
     },
     "execution_count": 79,
     "metadata": {},
     "output_type": "execute_result"
    }
   ],
   "source": [
    "list(map(times2,seq))"
   ]
  },
  {
   "cell_type": "code",
   "execution_count": 81,
   "id": "7930c0c0-1b93-41fc-bc2b-042df26df639",
   "metadata": {},
   "outputs": [
    {
     "data": {
      "text/plain": [
       "[6, 9, 18, 21, 27]"
      ]
     },
     "execution_count": 81,
     "metadata": {},
     "output_type": "execute_result"
    }
   ],
   "source": [
    "#using lambda\n",
    "list(map(lambda num:num*3,seq))"
   ]
  },
  {
   "cell_type": "code",
   "execution_count": 87,
   "id": "b23cda9e-a01a-4b62-bd06-a9907891320a",
   "metadata": {},
   "outputs": [
    {
     "data": {
      "text/plain": [
       "[2, 6]"
      ]
     },
     "execution_count": 87,
     "metadata": {},
     "output_type": "execute_result"
    }
   ],
   "source": [
    "#using lambda & filter\n",
    "list(filter(lambda num:num%2==0,seq))"
   ]
  },
  {
   "cell_type": "code",
   "execution_count": 91,
   "id": "6006dbfb-6dfc-4171-993f-97bce204cb32",
   "metadata": {},
   "outputs": [],
   "source": [
    "s='am learning python'"
   ]
  },
  {
   "cell_type": "code",
   "execution_count": 93,
   "id": "1e144364-57c5-4128-b3f4-5f23969352fb",
   "metadata": {},
   "outputs": [
    {
     "data": {
      "text/plain": [
       "['am', 'learning', 'python']"
      ]
     },
     "execution_count": 93,
     "metadata": {},
     "output_type": "execute_result"
    }
   ],
   "source": [
    "s.split()"
   ]
  },
  {
   "cell_type": "code",
   "execution_count": 1,
   "id": "5ab2a302-4ad3-4d4e-9d92-1b388205bd9a",
   "metadata": {},
   "outputs": [],
   "source": [
    "x = [(1,2),(3,4),(5,6)]\n"
   ]
  },
  {
   "cell_type": "code",
   "execution_count": 11,
   "id": "ffaef7b6-01f4-4630-9864-47165f9963b6",
   "metadata": {},
   "outputs": [
    {
     "data": {
      "text/plain": [
       "(1, 2)"
      ]
     },
     "execution_count": 11,
     "metadata": {},
     "output_type": "execute_result"
    }
   ],
   "source": [
    "x[0]\n"
   ]
  },
  {
   "cell_type": "code",
   "execution_count": 5,
   "id": "44305404-6f9a-4190-82b1-a498a6b9829d",
   "metadata": {},
   "outputs": [
    {
     "data": {
      "text/plain": [
       "3"
      ]
     },
     "execution_count": 5,
     "metadata": {},
     "output_type": "execute_result"
    }
   ],
   "source": [
    "x[1][0]\n"
   ]
  },
  {
   "cell_type": "code",
   "execution_count": 9,
   "id": "3ed6d8a1-10a0-48ef-badf-46c9957f203d",
   "metadata": {},
   "outputs": [
    {
     "name": "stdout",
     "output_type": "stream",
     "text": [
      "1 2\n",
      "3 4\n",
      "5 6\n"
     ]
    }
   ],
   "source": [
    "    for (a,b) in x:\n",
    "        print (a,b)"
   ]
  },
  {
   "cell_type": "code",
   "execution_count": 13,
   "id": "19c319f0-d7d3-41f1-ac43-48a1e0059e73",
   "metadata": {},
   "outputs": [
    {
     "data": {
      "text/plain": [
       "'hello'"
      ]
     },
     "execution_count": 13,
     "metadata": {},
     "output_type": "execute_result"
    }
   ],
   "source": [
    "d = {'k1':[1,2,3,{'tricky':['oh','man','inception',{'target':[1,2,3,'hello']}]}]}\n",
    "d['k1'][3]['tricky'][3]['target'][3]"
   ]
  },
  {
   "cell_type": "code",
   "execution_count": 15,
   "id": "0be51fd1-f953-4fb7-ac82-de24a4cb7d7d",
   "metadata": {},
   "outputs": [],
   "source": [
    "# Sample list\n",
    "my_list = ['apple', 'banana', 'apple', 'orange', 'banana', 'apple']\n",
    "\n",
    "# Values to count\n",
    "values_to_count = ['apple', 'banana', 'orange']\n"
   ]
  },
  {
   "cell_type": "code",
   "execution_count": 17,
   "id": "5732b806-1687-40cd-9e2f-ccf879a6b173",
   "metadata": {},
   "outputs": [
    {
     "name": "stdout",
     "output_type": "stream",
     "text": [
      "{'apple': 3, 'banana': 2, 'orange': 1}\n"
     ]
    }
   ],
   "source": [
    "# Count specific values\n",
    "counts = {value: my_list.count(value) for value in values_to_count}\n",
    "\n",
    "print(counts)"
   ]
  },
  {
   "cell_type": "code",
   "execution_count": null,
   "id": "bb6dd821-f571-4190-ad9f-f285cbb1ce7b",
   "metadata": {},
   "outputs": [],
   "source": []
  }
 ],
 "metadata": {
  "kernelspec": {
   "display_name": "Python [conda env:base] *",
   "language": "python",
   "name": "conda-base-py"
  },
  "language_info": {
   "codemirror_mode": {
    "name": "ipython",
    "version": 3
   },
   "file_extension": ".py",
   "mimetype": "text/x-python",
   "name": "python",
   "nbconvert_exporter": "python",
   "pygments_lexer": "ipython3",
   "version": "3.12.7"
  }
 },
 "nbformat": 4,
 "nbformat_minor": 5
}
